{
 "cells": [
  {
   "cell_type": "code",
   "execution_count": 161,
   "metadata": {},
   "outputs": [],
   "source": [
    "import json\n",
    "import pandas as pd\n",
    "from sklearn.metrics import accuracy_score, classification_report, confusion_matrix\n",
    "import ranking\n",
    "import matplotlib.pyplot as plt\n",
    "import seaborn as sns"
   ]
  },
  {
   "cell_type": "code",
   "execution_count": 162,
   "metadata": {},
   "outputs": [],
   "source": [
    "test_file_path = r\"U:\\LegalAnalytics\\BailPrediction\\data\\preprocessed\\full_data_val.json\""
   ]
  },
  {
   "cell_type": "code",
   "execution_count": 163,
   "metadata": {},
   "outputs": [],
   "source": [
    "with open(test_file_path, 'r', encoding='utf-8') as file:\n",
    "    test_data = json.load(file)"
   ]
  },
  {
   "cell_type": "code",
   "execution_count": 164,
   "metadata": {},
   "outputs": [],
   "source": [
    "# Convert test data to a DataFrame with 'facts-and-arguments' and 'judge-opinion' as separate columns\n",
    "df = pd.DataFrame([{\n",
    "    'id': entry['id'],\n",
    "    'district': entry['district'],\n",
    "    'facts_and_arguments': ' '.join(entry['text'].get('facts-and-arguments', [])),\n",
    "    'judge_opinion': ' '.join(entry['text'].get('judge-opinion', [])),\n",
    "    'label': entry['label']\n",
    "} for entry in test_data])\n"
   ]
  },
  {
   "cell_type": "code",
   "execution_count": 165,
   "metadata": {},
   "outputs": [],
   "source": [
    "df = df.head(1000)"
   ]
  },
  {
   "cell_type": "code",
   "execution_count": 166,
   "metadata": {},
   "outputs": [],
   "source": [
    "df['ranked_sentences'] = df['facts_and_arguments'].apply(lambda text: ranking.process([text])['ranked_sentences'])"
   ]
  },
  {
   "cell_type": "code",
   "execution_count": 167,
   "metadata": {},
   "outputs": [
    {
     "data": {
      "text/html": [
       "<div>\n",
       "<style scoped>\n",
       "    .dataframe tbody tr th:only-of-type {\n",
       "        vertical-align: middle;\n",
       "    }\n",
       "\n",
       "    .dataframe tbody tr th {\n",
       "        vertical-align: top;\n",
       "    }\n",
       "\n",
       "    .dataframe thead th {\n",
       "        text-align: right;\n",
       "    }\n",
       "</style>\n",
       "<table border=\"1\" class=\"dataframe\">\n",
       "  <thead>\n",
       "    <tr style=\"text-align: right;\">\n",
       "      <th></th>\n",
       "      <th>id</th>\n",
       "      <th>district</th>\n",
       "      <th>facts_and_arguments</th>\n",
       "      <th>judge_opinion</th>\n",
       "      <th>label</th>\n",
       "      <th>ranked_sentences</th>\n",
       "    </tr>\n",
       "  </thead>\n",
       "  <tbody>\n",
       "    <tr>\n",
       "      <th>0</th>\n",
       "      <td>Bail Application_1637_202021-07-20201079</td>\n",
       "      <td>aligarh</td>\n",
       "      <td>संक्षेप में, प्रथम सूचना रिपोर्ट के अनुसार घटन...</td>\n",
       "      <td>मैंने उभय पक्ष के विद्वान अधिवक्तागण के तर्क स...</td>\n",
       "      <td>1</td>\n",
       "      <td>[संक्षेप में प्रथम सूचना रिपोर्ट के अनुसार घटन...</td>\n",
       "    </tr>\n",
       "    <tr>\n",
       "      <th>1</th>\n",
       "      <td>Bail Application__1727_202028-10-20205015</td>\n",
       "      <td>etah</td>\n",
       "      <td>प्रार्थनापत्र प्रस्तुत किया गया है। अभियुक्त &lt;...</td>\n",
       "      <td>जमानत प्रार्थनापत्र &lt;नाम&gt; प्रार्थीगण/अभियुक्तग...</td>\n",
       "      <td>1</td>\n",
       "      <td>[प्रार्थनापत्र प्रस्तुत किया गया है,  अभियुक्त...</td>\n",
       "    </tr>\n",
       "  </tbody>\n",
       "</table>\n",
       "</div>"
      ],
      "text/plain": [
       "                                          id district  \\\n",
       "0   Bail Application_1637_202021-07-20201079  aligarh   \n",
       "1  Bail Application__1727_202028-10-20205015     etah   \n",
       "\n",
       "                                 facts_and_arguments  \\\n",
       "0  संक्षेप में, प्रथम सूचना रिपोर्ट के अनुसार घटन...   \n",
       "1  प्रार्थनापत्र प्रस्तुत किया गया है। अभियुक्त <...   \n",
       "\n",
       "                                       judge_opinion  label  \\\n",
       "0  मैंने उभय पक्ष के विद्वान अधिवक्तागण के तर्क स...      1   \n",
       "1  जमानत प्रार्थनापत्र <नाम> प्रार्थीगण/अभियुक्तग...      1   \n",
       "\n",
       "                                    ranked_sentences  \n",
       "0  [संक्षेप में प्रथम सूचना रिपोर्ट के अनुसार घटन...  \n",
       "1  [प्रार्थनापत्र प्रस्तुत किया गया है,  अभियुक्त...  "
      ]
     },
     "execution_count": 167,
     "metadata": {},
     "output_type": "execute_result"
    }
   ],
   "source": [
    "df.head(2)"
   ]
  },
  {
   "cell_type": "code",
   "execution_count": 168,
   "metadata": {},
   "outputs": [],
   "source": [
    "# Initialize an empty list to store bail scores\n",
    "bail_scores = []\n",
    "prediction = []\n",
    "\n",
    "# Define the maximum length for input truncation (adjust as needed for your model)\n",
    "max_length = 512\n",
    "\n",
    "# Loop through each row, join ranked sentences, and predict the bail score one by one\n",
    "for ranked_sentences in df['ranked_sentences']:\n",
    "    if isinstance(ranked_sentences, list):\n",
    "        joined_sentences = ' '.join(ranked_sentences)[:max_length]  # Truncate to the maximum length\n",
    "        bail_score = ranking.predict_bail_score([joined_sentences])[0]  # Pass as a single string\n",
    "        bail_scores.append(bail_score)\n",
    "        prediction.append(1 if bail_score > 50 else 0)"
   ]
  },
  {
   "cell_type": "code",
   "execution_count": 169,
   "metadata": {},
   "outputs": [],
   "source": [
    "df['bail_score'] = bail_scores\n",
    "df['prediction'] = prediction"
   ]
  },
  {
   "cell_type": "code",
   "execution_count": 170,
   "metadata": {},
   "outputs": [
    {
     "name": "stdout",
     "output_type": "stream",
     "text": [
      "Confusion Matrix:\n"
     ]
    },
    {
     "data": {
      "image/png": "[encoded data removed]",
      "text/plain": [
       "<Figure size 800x600 with 2 Axes>"
      ]
     },
     "metadata": {},
     "output_type": "display_data"
    }
   ],
   "source": [
    "print(\"Confusion Matrix:\")\n",
    "cm = confusion_matrix(df['label'], df['prediction'])\n",
    "# Plot the confusion matrix \n",
    "plt.figure(figsize=(8, 6)) \n",
    "sns.heatmap(cm, annot=True, fmt='d', cmap='Blues', xticklabels=['Predicted 0', 'Predicted 1'], yticklabels=['Actual 0', 'Actual 1'])\n",
    "plt.xlabel('Prediction')\n",
    "plt.ylabel('Actual')\n",
    "plt.title('Confusion Matrix')\n",
    "plt.show()"
   ]
  },
  {
   "cell_type": "code",
   "execution_count": 171,
   "metadata": {},
   "outputs": [
    {
     "name": "stdout",
     "output_type": "stream",
     "text": [
      "\n",
      "Classification Report:\n",
      "              precision    recall  f1-score   support\n",
      "\n",
      "           0       0.48      0.66      0.56       379\n",
      "           1       0.73      0.57      0.64       621\n",
      "\n",
      "    accuracy                           0.60      1000\n",
      "   macro avg       0.61      0.61      0.60      1000\n",
      "weighted avg       0.64      0.60      0.61      1000\n",
      "\n"
     ]
    }
   ],
   "source": [
    "print(\"\\nClassification Report:\")\n",
    "print(classification_report(df['label'], df['prediction']))"
   ]
  },
  {
   "cell_type": "code",
   "execution_count": 172,
   "metadata": {},
   "outputs": [
    {
     "name": "stdout",
     "output_type": "stream",
     "text": [
      "\n",
      "Accuracy Score:\n",
      "0.604\n"
     ]
    }
   ],
   "source": [
    "print(\"\\nAccuracy Score:\")\n",
    "print(accuracy_score(df['label'], df['prediction']))"
   ]
  }
 ],
 "metadata": {
  "kernelspec": {
   "display_name": "Python 3",
   "language": "python",
   "name": "python3"
  },
  "language_info": {
   "codemirror_mode": {
    "name": "ipython",
    "version": 3
   },
   "file_extension": ".py",
   "mimetype": "text/x-python",
   "name": "python",
   "nbconvert_exporter": "python",
   "pygments_lexer": "ipython3",
   "version": "3.12.3"
  }
 },
 "nbformat": 4,
 "nbformat_minor": 2
}
